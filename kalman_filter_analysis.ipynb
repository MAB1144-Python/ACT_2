{
 "cells": [
  {
   "cell_type": "markdown",
   "id": "ef5da5f2",
   "metadata": {},
   "source": [
    "# Análisis del Filtro de Kalman\n",
    "Este notebook implementa paso a paso el filtro de Kalman, incluyendo estimación de estado, predicción, actualización con medición y análisis de convergencia."
   ]
  },
  {
   "cell_type": "markdown",
   "id": "d202d21a",
   "metadata": {},
   "source": [
    "## 1. Importar librerías necesarias\n",
    "Importaremos NumPy para cálculos numéricos y Matplotlib para visualización."
   ]
  },
  {
   "cell_type": "code",
   "execution_count": 2,
   "id": "719743c7",
   "metadata": {},
   "outputs": [
    {
     "name": "stdout",
     "output_type": "stream",
     "text": [
      "Collecting numpy\n",
      "  Downloading numpy-2.3.4-cp313-cp313-macosx_14_0_arm64.whl.metadata (62 kB)\n",
      "  Downloading numpy-2.3.4-cp313-cp313-macosx_14_0_arm64.whl.metadata (62 kB)\n",
      "Collecting pandas\n",
      "Collecting pandas\n",
      "  Downloading pandas-2.3.3-cp313-cp313-macosx_11_0_arm64.whl.metadata (91 kB)\n",
      "  Downloading pandas-2.3.3-cp313-cp313-macosx_11_0_arm64.whl.metadata (91 kB)\n",
      "Collecting matplotlib\n",
      "Collecting matplotlib\n",
      "  Downloading matplotlib-3.10.7-cp313-cp313-macosx_11_0_arm64.whl.metadata (11 kB)\n",
      "  Downloading matplotlib-3.10.7-cp313-cp313-macosx_11_0_arm64.whl.metadata (11 kB)\n",
      "Collecting pykalman\n",
      "Collecting pykalman\n",
      "  Downloading pykalman-0.10.2-py2.py3-none-any.whl.metadata (9.6 kB)\n",
      "Requirement already satisfied: python-dateutil>=2.8.2 in ./.venv/lib/python3.13/site-packages (from pandas) (2.9.0.post0)\n",
      "  Downloading pykalman-0.10.2-py2.py3-none-any.whl.metadata (9.6 kB)\n",
      "Requirement already satisfied: python-dateutil>=2.8.2 in ./.venv/lib/python3.13/site-packages (from pandas) (2.9.0.post0)\n",
      "Collecting pytz>=2020.1 (from pandas)\n",
      "Collecting pytz>=2020.1 (from pandas)\n",
      "  Downloading pytz-2025.2-py2.py3-none-any.whl.metadata (22 kB)\n",
      "  Downloading pytz-2025.2-py2.py3-none-any.whl.metadata (22 kB)\n",
      "Collecting tzdata>=2022.7 (from pandas)\n",
      "Collecting tzdata>=2022.7 (from pandas)\n",
      "  Downloading tzdata-2025.2-py2.py3-none-any.whl.metadata (1.4 kB)\n",
      "  Downloading tzdata-2025.2-py2.py3-none-any.whl.metadata (1.4 kB)\n",
      "Collecting contourpy>=1.0.1 (from matplotlib)\n",
      "Collecting contourpy>=1.0.1 (from matplotlib)\n",
      "  Downloading contourpy-1.3.3-cp313-cp313-macosx_11_0_arm64.whl.metadata (5.5 kB)\n",
      "  Downloading contourpy-1.3.3-cp313-cp313-macosx_11_0_arm64.whl.metadata (5.5 kB)\n",
      "Collecting cycler>=0.10 (from matplotlib)\n",
      "Collecting cycler>=0.10 (from matplotlib)\n",
      "  Using cached cycler-0.12.1-py3-none-any.whl.metadata (3.8 kB)\n",
      "  Using cached cycler-0.12.1-py3-none-any.whl.metadata (3.8 kB)\n",
      "Collecting fonttools>=4.22.0 (from matplotlib)\n",
      "Collecting fonttools>=4.22.0 (from matplotlib)\n",
      "  Downloading fonttools-4.60.1-cp313-cp313-macosx_10_13_universal2.whl.metadata (112 kB)\n",
      "  Downloading fonttools-4.60.1-cp313-cp313-macosx_10_13_universal2.whl.metadata (112 kB)\n",
      "Collecting kiwisolver>=1.3.1 (from matplotlib)\n",
      "Collecting kiwisolver>=1.3.1 (from matplotlib)\n",
      "  Downloading kiwisolver-1.4.9-cp313-cp313-macosx_11_0_arm64.whl.metadata (6.3 kB)\n",
      "Requirement already satisfied: packaging>=20.0 in ./.venv/lib/python3.13/site-packages (from matplotlib) (25.0)\n",
      "  Downloading kiwisolver-1.4.9-cp313-cp313-macosx_11_0_arm64.whl.metadata (6.3 kB)\n",
      "Requirement already satisfied: packaging>=20.0 in ./.venv/lib/python3.13/site-packages (from matplotlib) (25.0)\n",
      "Collecting pillow>=8 (from matplotlib)\n",
      "Collecting pillow>=8 (from matplotlib)\n",
      "  Downloading pillow-12.0.0-cp313-cp313-macosx_11_0_arm64.whl.metadata (8.8 kB)\n",
      "  Downloading pillow-12.0.0-cp313-cp313-macosx_11_0_arm64.whl.metadata (8.8 kB)\n",
      "Collecting pyparsing>=3 (from matplotlib)\n",
      "Collecting pyparsing>=3 (from matplotlib)\n",
      "  Downloading pyparsing-3.2.5-py3-none-any.whl.metadata (5.0 kB)\n",
      "  Downloading pyparsing-3.2.5-py3-none-any.whl.metadata (5.0 kB)\n",
      "Collecting scikit-base<0.13.0 (from pykalman)\n",
      "Collecting scikit-base<0.13.0 (from pykalman)\n",
      "  Downloading scikit_base-0.12.6-py3-none-any.whl.metadata (8.8 kB)\n",
      "  Downloading scikit_base-0.12.6-py3-none-any.whl.metadata (8.8 kB)\n",
      "Collecting scipy<2.0.0 (from pykalman)\n",
      "Collecting scipy<2.0.0 (from pykalman)\n",
      "  Downloading scipy-1.16.2-cp313-cp313-macosx_14_0_arm64.whl.metadata (62 kB)\n",
      "  Downloading scipy-1.16.2-cp313-cp313-macosx_14_0_arm64.whl.metadata (62 kB)\n",
      "Requirement already satisfied: six>=1.5 in ./.venv/lib/python3.13/site-packages (from python-dateutil>=2.8.2->pandas) (1.17.0)\n",
      "Requirement already satisfied: six>=1.5 in ./.venv/lib/python3.13/site-packages (from python-dateutil>=2.8.2->pandas) (1.17.0)\n",
      "Downloading numpy-2.3.4-cp313-cp313-macosx_14_0_arm64.whl (5.1 MB)\n",
      "\u001b[?25l   \u001b[90m━━━━━━━━━━━━━━━━━━━━━━━━━━━━━━━━━━━━━━━━\u001b[0m \u001b[32m0.0/5.1 MB\u001b[0m \u001b[31m?\u001b[0m eta \u001b[36m-:--:--\u001b[0mDownloading numpy-2.3.4-cp313-cp313-macosx_14_0_arm64.whl (5.1 MB)\n",
      "\u001b[2K   \u001b[90m━━━━━━━━━━━━━━━━━━━━━━━━━━━━━━━━━━━━━━━━\u001b[0m \u001b[32m5.1/5.1 MB\u001b[0m \u001b[31m1.4 MB/s\u001b[0m  \u001b[33m0:00:03\u001b[0m eta \u001b[36m0:00:01\u001b[0m\n",
      "\u001b[2K   \u001b[90m━━━━━━━━━━━━━━━━━━━━━━━━━━━━━━━━━━━━━━━━\u001b[0m \u001b[32m5.1/5.1 MB\u001b[0m \u001b[31m1.4 MB/s\u001b[0m  \u001b[33m0:00:03\u001b[0m\n",
      "\u001b[?25hDownloading pandas-2.3.3-cp313-cp313-macosx_11_0_arm64.whl (10.7 MB)\n",
      "\u001b[?25l   \u001b[90m━━━━━━━━━━━━━━━━━━━━━━━━━━━━━━━━━━━━━━━━\u001b[0m \u001b[32m0.0/10.7 MB\u001b[0m \u001b[31m?\u001b[0m eta \u001b[36m-:--:--\u001b[0mDownloading pandas-2.3.3-cp313-cp313-macosx_11_0_arm64.whl (10.7 MB)\n",
      "\u001b[2K   \u001b[90m━━━━━━━━━━━━━━━━━━━━━━━━━━━━━━━━━━━━━━━━\u001b[0m \u001b[32m10.7/10.7 MB\u001b[0m \u001b[31m1.8 MB/s\u001b[0m  \u001b[33m0:00:05\u001b[0meta \u001b[36m0:00:01\u001b[0m\n",
      "\u001b[2K   \u001b[90m━━━━━━━━━━━━━━━━━━━━━━━━━━━━━━━━━━━━━━━━\u001b[0m \u001b[32m10.7/10.7 MB\u001b[0m \u001b[31m1.8 MB/s\u001b[0m  \u001b[33m0:00:05\u001b[0m\n",
      "\u001b[?25hDownloading matplotlib-3.10.7-cp313-cp313-macosx_11_0_arm64.whl (8.1 MB)\n",
      "\u001b[?25l   \u001b[90m━━━━━━━━━━━━━━━━━━━━━━━━━━━━━━━━━━━━━━━━\u001b[0m \u001b[32m0.0/8.1 MB\u001b[0m \u001b[31m?\u001b[0m eta \u001b[36m-:--:--\u001b[0mDownloading matplotlib-3.10.7-cp313-cp313-macosx_11_0_arm64.whl (8.1 MB)\n",
      "\u001b[2K   \u001b[90m━━━━━━━━━━━━━━━━━━━━━━━━━━━━━━━━━━━━━━━━\u001b[0m \u001b[32m8.1/8.1 MB\u001b[0m \u001b[31m1.4 MB/s\u001b[0m  \u001b[33m0:00:05\u001b[0m eta \u001b[36m0:00:01\u001b[0m\n",
      "\u001b[2K   \u001b[90m━━━━━━━━━━━━━━━━━━━━━━━━━━━━━━━━━━━━━━━━\u001b[0m \u001b[32m8.1/8.1 MB\u001b[0m \u001b[31m1.4 MB/s\u001b[0m  \u001b[33m0:00:05\u001b[0m\n",
      "\u001b[?25hDownloading pykalman-0.10.2-py2.py3-none-any.whl (249 kB)\n",
      "Downloading pykalman-0.10.2-py2.py3-none-any.whl (249 kB)\n",
      "Downloading scikit_base-0.12.6-py3-none-any.whl (149 kB)\n",
      "Downloading scikit_base-0.12.6-py3-none-any.whl (149 kB)\n",
      "Downloading scipy-1.16.2-cp313-cp313-macosx_14_0_arm64.whl (20.9 MB)\n",
      "\u001b[?25l   \u001b[90m━━━━━━━━━━━━━━━━━━━━━━━━━━━━━━━━━━━━━━━━\u001b[0m \u001b[32m0.0/20.9 MB\u001b[0m \u001b[31m?\u001b[0m eta \u001b[36m-:--:--\u001b[0mDownloading scipy-1.16.2-cp313-cp313-macosx_14_0_arm64.whl (20.9 MB)\n",
      "\u001b[2K   \u001b[90m━━━━━━━━━━━━━━━━━━━━━━━━━━━━━━━━━━━━━━━━\u001b[0m \u001b[32m20.9/20.9 MB\u001b[0m \u001b[31m1.4 MB/s\u001b[0m  \u001b[33m0:00:14\u001b[0mm0:00:01\u001b[0m00:01\u001b[0mm\n",
      "\u001b[2K   \u001b[90m━━━━━━━━━━━━━━━━━━━━━━━━━━━━━━━━━━━━━━━━\u001b[0m \u001b[32m20.9/20.9 MB\u001b[0m \u001b[31m1.4 MB/s\u001b[0m  \u001b[33m0:00:14\u001b[0m\n",
      "\u001b[?25hDownloading contourpy-1.3.3-cp313-cp313-macosx_11_0_arm64.whl (274 kB)\n",
      "Downloading contourpy-1.3.3-cp313-cp313-macosx_11_0_arm64.whl (274 kB)\n",
      "Using cached cycler-0.12.1-py3-none-any.whl (8.3 kB)\n",
      "Using cached cycler-0.12.1-py3-none-any.whl (8.3 kB)\n",
      "Downloading fonttools-4.60.1-cp313-cp313-macosx_10_13_universal2.whl (2.8 MB)\n",
      "\u001b[?25l   \u001b[90m━━━━━━━━━━━━━━━━━━━━━━━━━━━━━━━━━━━━━━━━\u001b[0m \u001b[32m0.0/2.8 MB\u001b[0m \u001b[31m?\u001b[0m eta \u001b[36m-:--:--\u001b[0mDownloading fonttools-4.60.1-cp313-cp313-macosx_10_13_universal2.whl (2.8 MB)\n",
      "\u001b[2K   \u001b[90m━━━━━━━━━━━━━━━━━━━━━━━━━━━━━━━━━━━━━━━━\u001b[0m \u001b[32m2.8/2.8 MB\u001b[0m \u001b[31m1.3 MB/s\u001b[0m  \u001b[33m0:00:02\u001b[0m eta \u001b[36m0:00:01\u001b[0m0m\n",
      "\u001b[2K   \u001b[90m━━━━━━━━━━━━━━━━━━━━━━━━━━━━━━━━━━━━━━━━\u001b[0m \u001b[32m2.8/2.8 MB\u001b[0m \u001b[31m1.3 MB/s\u001b[0m  \u001b[33m0:00:02\u001b[0m\n",
      "\u001b[?25hDownloading kiwisolver-1.4.9-cp313-cp313-macosx_11_0_arm64.whl (64 kB)\n",
      "Downloading kiwisolver-1.4.9-cp313-cp313-macosx_11_0_arm64.whl (64 kB)\n",
      "Downloading pillow-12.0.0-cp313-cp313-macosx_11_0_arm64.whl (4.7 MB)\n",
      "\u001b[?25l   \u001b[90m━━━━━━━━━━━━━━━━━━━━━━━━━━━━━━━━━━━━━━━━\u001b[0m \u001b[32m0.0/4.7 MB\u001b[0m \u001b[31m?\u001b[0m eta \u001b[36m-:--:--\u001b[0mDownloading pillow-12.0.0-cp313-cp313-macosx_11_0_arm64.whl (4.7 MB)\n",
      "\u001b[2K   \u001b[90m━━━━━━━━━━━━━━━━━━━━━━━━━━━━━━━━━━━━━━━━\u001b[0m \u001b[32m4.7/4.7 MB\u001b[0m \u001b[31m1.8 MB/s\u001b[0m  \u001b[33m0:00:02\u001b[0m eta \u001b[36m0:00:01\u001b[0m\n",
      "\u001b[2K   \u001b[90m━━━━━━━━━━━━━━━━━━━━━━━━━━━━━━━━━━━━━━━━\u001b[0m \u001b[32m4.7/4.7 MB\u001b[0m \u001b[31m1.8 MB/s\u001b[0m  \u001b[33m0:00:02\u001b[0m\n",
      "\u001b[?25hDownloading pyparsing-3.2.5-py3-none-any.whl (113 kB)\n",
      "Downloading pyparsing-3.2.5-py3-none-any.whl (113 kB)\n",
      "Downloading pytz-2025.2-py2.py3-none-any.whl (509 kB)\n",
      "Downloading pytz-2025.2-py2.py3-none-any.whl (509 kB)\n",
      "Downloading tzdata-2025.2-py2.py3-none-any.whl (347 kB)\n",
      "Downloading tzdata-2025.2-py2.py3-none-any.whl (347 kB)\n",
      "Installing collected packages: pytz, tzdata, scikit-base, pyparsing, pillow, numpy, kiwisolver, fonttools, cycler, scipy, pandas, contourpy, pykalman, matplotlib\n",
      "\u001b[?25lInstalling collected packages: pytz, tzdata, scikit-base, pyparsing, pillow, numpy, kiwisolver, fonttools, cycler, scipy, pandas, contourpy, pykalman, matplotlib\n",
      "\u001b[2K   \u001b[90m━━━━━━━━━━━━━━━━━━━━━━━━━━━━━━━━━━━━━━━━\u001b[0m \u001b[32m14/14\u001b[0m [matplotlib]4\u001b[0m [matplotlib]\n",
      "\u001b[1A\u001b[2KSuccessfully installed contourpy-1.3.3 cycler-0.12.1 fonttools-4.60.1 kiwisolver-1.4.9 matplotlib-3.10.7 numpy-2.3.4 pandas-2.3.3 pillow-12.0.0 pykalman-0.10.2 pyparsing-3.2.5 pytz-2025.2 scikit-base-0.12.6 scipy-1.16.2 tzdata-2025.2\n",
      "\u001b[2K   \u001b[90m━━━━━━━━━━━━━━━━━━━━━━━━━━━━━━━━━━━━━━━━\u001b[0m \u001b[32m14/14\u001b[0m [matplotlib]\n",
      "\u001b[1A\u001b[2KSuccessfully installed contourpy-1.3.3 cycler-0.12.1 fonttools-4.60.1 kiwisolver-1.4.9 matplotlib-3.10.7 numpy-2.3.4 pandas-2.3.3 pillow-12.0.0 pykalman-0.10.2 pyparsing-3.2.5 pytz-2025.2 scikit-base-0.12.6 scipy-1.16.2 tzdata-2025.2\n"
     ]
    }
   ],
   "source": [
    "!pip install numpy pandas matplotlib pykalman"
   ]
  },
  {
   "cell_type": "code",
   "execution_count": 3,
   "id": "99f4f5f3",
   "metadata": {},
   "outputs": [],
   "source": [
    "import numpy as np\n",
    "import matplotlib.pyplot as plt\n",
    "\n",
    "# Configuración para gráficos en notebook\n",
    "%matplotlib inline"
   ]
  },
  {
   "cell_type": "markdown",
   "id": "b523741d",
   "metadata": {},
   "source": [
    "## 2. Inicializar el vector de estado y la matriz de covarianza\n",
    "Definimos los valores iniciales para el estado y la incertidumbre."
   ]
  },
  {
   "cell_type": "code",
   "execution_count": 4,
   "id": "93d386b8",
   "metadata": {},
   "outputs": [
    {
     "name": "stdout",
     "output_type": "stream",
     "text": [
      "Estado inicial x:\n",
      " [[0]\n",
      " [1]]\n",
      "Matriz de covarianza inicial P:\n",
      " [[1 0]\n",
      " [0 1]]\n"
     ]
    }
   ],
   "source": [
    "# Estado inicial (ejemplo: posición y velocidad)\n",
    "x = np.array([[0],    # posición inicial\n",
    "              [1]])   # velocidad inicial\n",
    "\n",
    "# Matriz de covarianza inicial (incertidumbre)\n",
    "P = np.array([[1, 0],\n",
    "              [0, 1]])\n",
    "\n",
    "print('Estado inicial x:\\n', x)\n",
    "print('Matriz de covarianza inicial P:\\n', P)"
   ]
  },
  {
   "cell_type": "markdown",
   "id": "aa46cdea",
   "metadata": {},
   "source": [
    "## 3. Predecir el estado y la covarianza para el siguiente paso de tiempo\n",
    "Utilizamos la matriz de transición de estado para predecir el siguiente estado y la nueva covarianza."
   ]
  },
  {
   "cell_type": "code",
   "execution_count": 5,
   "id": "55bec54f",
   "metadata": {},
   "outputs": [
    {
     "name": "stdout",
     "output_type": "stream",
     "text": [
      "Estado predicho x_pred:\n",
      " [[1]\n",
      " [1]]\n",
      "Covarianza predicha P_pred:\n",
      " [[2.1 1. ]\n",
      " [1.  1.1]]\n"
     ]
    }
   ],
   "source": [
    "# Matriz de transición de estado (ejemplo: modelo de movimiento constante)\n",
    "F = np.array([[1, 1],\n",
    "              [0, 1]])\n",
    "\n",
    "# Varianza del modelo (ruido del proceso)\n",
    "Q = np.array([[0.1, 0],\n",
    "              [0, 0.1]])\n",
    "\n",
    "# Predicción del estado y la covarianza\n",
    "x_pred = F @ x\n",
    "P_pred = F @ P @ F.T + Q\n",
    "\n",
    "print('Estado predicho x_pred:\\n', x_pred)\n",
    "print('Covarianza predicha P_pred:\\n', P_pred)"
   ]
  },
  {
   "cell_type": "markdown",
   "id": "288148fd",
   "metadata": {},
   "source": [
    "## 4. Calcular la ganancia de Kalman\n",
    "La ganancia de Kalman determina cuánto se ajusta la predicción con la medición observada."
   ]
  },
  {
   "cell_type": "code",
   "execution_count": 6,
   "id": "3e6ddf81",
   "metadata": {},
   "outputs": [
    {
     "name": "stdout",
     "output_type": "stream",
     "text": [
      "Ganancia de Kalman K:\n",
      " [[0.80769231]\n",
      " [0.38461538]]\n"
     ]
    }
   ],
   "source": [
    "# Matriz de observación (solo medimos la posición)\n",
    "H = np.array([[1, 0]])\n",
    "\n",
    "# Varianza de la medición (ruido de medición)\n",
    "R = np.array([[0.5]])\n",
    "\n",
    "# Calcular la ganancia de Kalman\n",
    "S = H @ P_pred @ H.T + R\n",
    "K = P_pred @ H.T @ np.linalg.inv(S)\n",
    "\n",
    "print('Ganancia de Kalman K:\\n', K)"
   ]
  },
  {
   "cell_type": "markdown",
   "id": "c07ff987",
   "metadata": {},
   "source": [
    "## 5. Realizar una medición y actualizar las estimaciones\n",
    "Utilizamos una medición simulada para actualizar el estado y la covarianza."
   ]
  },
  {
   "cell_type": "code",
   "execution_count": 8,
   "id": "06f96009",
   "metadata": {},
   "outputs": [
    {
     "name": "stdout",
     "output_type": "stream",
     "text": [
      "Estado actualizado x_upd:\n",
      " [[1.16153846]\n",
      " [1.07692308]]\n",
      "Covarianza actualizada P_upd:\n",
      " [[0.40384615 0.19230769]\n",
      " [0.19230769 0.71538462]]\n"
     ]
    }
   ],
   "source": [
    "# Simulamos una medición (por ejemplo, posición observada)\n",
    "z = np.array([[1.2]])\n",
    "\n",
    "# Actualización del estado y la covarianza\n",
    "x_upd = x_pred + K @ (z - H @ x_pred)\n",
    "P_upd = (np.eye(2) - K @ H) @ P_pred\n",
    "\n",
    "print('Estado actualizado x_upd:\\n', x_upd)\n",
    "print('Covarianza actualizada P_upd:\\n', P_upd)"
   ]
  },
  {
   "cell_type": "markdown",
   "id": "a02fb893",
   "metadata": {},
   "source": [
    "## 6. Elegir una varianza del modelo mayor que la de la medición\n",
    "Ahora aumentamos la varianza del modelo y repetimos el análisis."
   ]
  },
  {
   "cell_type": "code",
   "execution_count": 9,
   "id": "d36958d4",
   "metadata": {},
   "outputs": [
    {
     "name": "stdout",
     "output_type": "stream",
     "text": [
      "Estado actualizado con mayor varianza x_upd2:\n",
      " [[1.59221902]\n",
      " [0.90951009]]\n",
      "Covarianza actualizada con mayor varianza P_upd2:\n",
      " [[0.43756004 0.11335255]\n",
      " [0.11335255 2.50960615]]\n"
     ]
    }
   ],
   "source": [
    "# Nueva varianza del modelo (mayor que la de medición)\n",
    "Q_new = np.array([[2.0, 0],\n",
    "                  [0, 2.0]])\n",
    "\n",
    "# Repetimos el ciclo de predicción y actualización\n",
    "x_pred2 = F @ x_upd\n",
    "P_pred2 = F @ P_upd @ F.T + Q_new\n",
    "S2 = H @ P_pred2 @ H.T + R\n",
    "K2 = P_pred2 @ H.T @ np.linalg.inv(S2)\n",
    "z2 = np.array([[1.5]])  # nueva medición simulada\n",
    "x_upd2 = x_pred2 + K2 @ (z2 - H @ x_pred2)\n",
    "P_upd2 = (np.eye(2) - K2 @ H) @ P_pred2\n",
    "\n",
    "print('Estado actualizado con mayor varianza x_upd2:\\n', x_upd2)\n",
    "print('Covarianza actualizada con mayor varianza P_upd2:\\n', P_upd2)"
   ]
  },
  {
   "cell_type": "markdown",
   "id": "e80b7b98",
   "metadata": {},
   "source": [
    "## 7. ¿Converge la estimación del Filtro de Kalman?\n",
    "Analizaremos la evolución de la covarianza y el estado para ver si el filtro converge."
   ]
  },
  {
   "cell_type": "code",
   "execution_count": null,
   "id": "f781fa00",
   "metadata": {},
   "outputs": [],
   "source": [
    "# Simulación de varios pasos para analizar convergencia\n",
    "n_steps = 20\n",
    "x_hist = []\n",
    "P_hist = []\n",
    "z_hist = []\n",
    "\n",
    "x_k = x.copy()\n",
    "P_k = P.copy()\n",
    "Q_sim = Q_new.copy()\n",
    "\n",
    "for k in range(n_steps):\n",
    "    # Predicción\n",
    "    x_pred_k = F @ x_k\n",
    "    P_pred_k = F @ P_k @ F.T + Q_sim\n",
    "    # Medición simulada (ruido normal)\n",
    "    z_k = np.array([[1.0 + 0.5 * np.random.randn()]])\n",
    "    # Ganancia de Kalman\n",
    "    S_k = H @ P_pred_k @ H.T + R\n",
    "    K_k = P_pred_k @ H.T @ np.linalg.inv(S_k)\n",
    "    # Actualización\n",
    "    x_k = x_pred_k + K_k @ (z_k - H @ x_pred_k)\n",
    "    P_k = (np.eye(2) - K_k @ H) @ P_pred_k\n",
    "    # Guardar historia\n",
    "    x_hist.append(x_k.flatten())\n",
    "    P_hist.append(np.diag(P_k))\n",
    "    z_hist.append(z_k.flatten())\n",
    "\n",
    "x_hist = np.array(x_hist)\n",
    "P_hist = np.array(P_hist)\n",
    "z_hist = np.array(z_hist)"
   ]
  },
  {
   "cell_type": "markdown",
   "id": "bcdeff40",
   "metadata": {},
   "source": [
    "## 8. Visualización de resultados y análisis de convergencia\n",
    "Graficamos la evolución de las estimaciones y la covarianza para observar el comportamiento del filtro."
   ]
  },
  {
   "cell_type": "code",
   "execution_count": null,
   "id": "2e146cfb",
   "metadata": {},
   "outputs": [],
   "source": [
    "# Graficar estimación de posición y mediciones\n",
    "plt.figure(figsize=(10,5))\n",
    "plt.plot(x_hist[:,0], label='Estimación de posición (KF)')\n",
    "plt.plot(z_hist, 'o', label='Mediciones')\n",
    "plt.xlabel('Paso de tiempo')\n",
    "plt.ylabel('Posición')\n",
    "plt.title('Estimación de posición vs mediciones')\n",
    "plt.legend()\n",
    "plt.show()\n",
    "\n",
    "# Graficar evolución de la covarianza\n",
    "plt.figure(figsize=(10,5))\n",
    "plt.plot(P_hist[:,0], label='Covarianza de posición')\n",
    "plt.plot(P_hist[:,1], label='Covarianza de velocidad')\n",
    "plt.xlabel('Paso de tiempo')\n",
    "plt.ylabel('Valor de covarianza')\n",
    "plt.title('Evolución de la covarianza')\n",
    "plt.legend()\n",
    "plt.show()\n",
    "\n",
    "# Explicación sobre la convergencia\n",
    "print('''\\nExplicación:\n",
    "El filtro de Kalman ajusta sus estimaciones en cada paso, combinando la predicción del modelo y la medición observada. Cuando la varianza del modelo es mayor que la de la medición, el filtro confía más en las mediciones y menos en el modelo. La covarianza tiende a estabilizarse, mostrando que el filtro converge y las estimaciones se vuelven más precisas con el tiempo, aunque dependen de la relación entre las varianzas del modelo y la medición.''')"
   ]
  },
  {
   "cell_type": "code",
   "execution_count": null,
   "id": "5c7cf226",
   "metadata": {},
   "outputs": [],
   "source": [
    "import pandas as pd\n",
    "\n",
    "df = pd.read_csv('Appendix 1 - xy_motion_kalman_filter_example.csv')\n",
    "df.head()"
   ]
  }
 ],
 "metadata": {
  "kernelspec": {
   "display_name": ".venv",
   "language": "python",
   "name": "python3"
  },
  "language_info": {
   "codemirror_mode": {
    "name": "ipython",
    "version": 3
   },
   "file_extension": ".py",
   "mimetype": "text/x-python",
   "name": "python",
   "nbconvert_exporter": "python",
   "pygments_lexer": "ipython3",
   "version": "3.13.7"
  }
 },
 "nbformat": 4,
 "nbformat_minor": 5
}
